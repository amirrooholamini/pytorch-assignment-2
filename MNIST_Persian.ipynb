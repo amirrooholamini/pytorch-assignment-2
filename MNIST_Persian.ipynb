{
  "nbformat": 4,
  "nbformat_minor": 0,
  "metadata": {
    "colab": {
      "name": "Pytorch-2.ipynb",
      "provenance": [],
      "collapsed_sections": []
    },
    "kernelspec": {
      "name": "python3",
      "display_name": "Python 3"
    },
    "language_info": {
      "name": "python"
    },
    "accelerator": "GPU"
  },
  "cells": [
    {
      "cell_type": "code",
      "source": [
        "from google.colab import drive\n",
        "drive.mount('/content/drive')"
      ],
      "metadata": {
        "id": "LoTtv8D5HNyM",
        "colab": {
          "base_uri": "https://localhost:8080/"
        },
        "outputId": "ce25dc23-29ee-47a8-863e-4264d3f8bd87"
      },
      "execution_count": 1,
      "outputs": [
        {
          "output_type": "stream",
          "name": "stdout",
          "text": [
            "Drive already mounted at /content/drive; to attempt to forcibly remount, call drive.mount(\"/content/drive\", force_remount=True).\n"
          ]
        }
      ]
    },
    {
      "cell_type": "code",
      "execution_count": 91,
      "metadata": {
        "id": "o6214o7RwlmB"
      },
      "outputs": [],
      "source": [
        "import torch\n",
        "import  torchvision\n",
        "import torch.nn as nn\n",
        "import torch.nn.functional as F\n",
        "import torchvision.transforms as transforms\n",
        "from tqdm import tqdm\n",
        "from sklearn.model_selection import train_test_split\n",
        "from torch.utils.data import Subset"
      ]
    },
    {
      "cell_type": "code",
      "source": [
        "# Hyper params\n",
        "batch_size = 8\n",
        "epochs = 20\n",
        "lr = 0.0005"
      ],
      "metadata": {
        "id": "Eg5maf1o03H1"
      },
      "execution_count": 92,
      "outputs": []
    },
    {
      "cell_type": "code",
      "source": [
        "class Model(nn.Module):\n",
        "  def __init__(self, p = 0.2):\n",
        "    super().__init__()\n",
        "    self.conv1 = nn.Conv2d(3, 32, (3,3) , (1,1), (1,1)) # input channel - output channel - mask size , stride - padding\n",
        "    self.conv2 = nn.Conv2d(32, 64, (3,3) , (1,1), (1,1))\n",
        "    self.conv3 = nn.Conv2d(64, 128, (3,3) , (1,1), (1,1))\n",
        "\n",
        "    self.fc1 = nn.Linear(128*8*8, 128)\n",
        "    self.fc2 = nn.Linear(128, 10)\n",
        "    self.dropout = nn.Dropout(p) \n",
        "\n",
        "  def forward(self, x):\n",
        "    x = F.relu(self.conv1(x))\n",
        "    x = F.max_pool2d(x, kernel_size=(2,2))\n",
        "\n",
        "    x = F.relu(self.conv2(x))\n",
        "    x = F.max_pool2d(x, kernel_size=(2,2))\n",
        "\n",
        "    x = F.relu(self.conv3(x))\n",
        "    x = F.max_pool2d(x, kernel_size=(2,2))\n",
        "    x = torch.flatten(x, start_dim=1)\n",
        "    self.dropout(x)\n",
        "    x = self.fc1(x)\n",
        "    self.dropout(x)\n",
        "    x = self.fc2(x)\n",
        "    x = torch.softmax(x, dim=1)\n",
        "\n",
        "    return x\n"
      ],
      "metadata": {
        "id": "Y8jA5XIZw994"
      },
      "execution_count": 93,
      "outputs": []
    },
    {
      "cell_type": "code",
      "source": [
        "device = torch.device('cuda' if torch.cuda.is_available() else 'cpu')\n",
        "model = Model().to(device)"
      ],
      "metadata": {
        "id": "Ya2lq64K0iuO"
      },
      "execution_count": 94,
      "outputs": []
    },
    {
      "cell_type": "code",
      "source": [
        "def train_val_dataset(dataset, val_split=0.2):\n",
        "    train_idx, val_idx = train_test_split(list(range(len(dataset))), test_size=val_split)\n",
        "    datasets = {}\n",
        "    datasets['train'] = Subset(dataset, train_idx)\n",
        "    datasets['val'] = Subset(dataset, val_idx)\n",
        "    return datasets\n",
        "\n",
        "\n",
        "transform = transforms.Compose([\n",
        "     transforms.Resize((70,70)),\n",
        "     transforms.RandomRotation(20),\n",
        "     transforms.ToTensor(),\n",
        "     torchvision.transforms.Normalize(\n",
        "        mean=[0.485, 0.456, 0.406],\n",
        "        std=[0.229, 0.224, 0.225],\n",
        "    ),\n",
        "])\n",
        "\n",
        "dataset = torchvision.datasets.ImageFolder(\"/content/drive/MyDrive/MNIST_persian\", transform = transform)\n",
        "print(len(dataset))\n",
        "datasets = train_val_dataset(dataset)\n",
        "print(len(datasets['train']))\n",
        "print(len(datasets['val']))\n",
        "\n",
        "trainDataLoader = torch.utils.data.DataLoader(dataset, batch_size=batch_size, shuffle=True)\n"
      ],
      "metadata": {
        "id": "kBxL6hh_1Az2",
        "colab": {
          "base_uri": "https://localhost:8080/"
        },
        "outputId": "09926c6d-0c53-40c4-d839-6bee923fd595"
      },
      "execution_count": 95,
      "outputs": [
        {
          "output_type": "stream",
          "name": "stdout",
          "text": [
            "1200\n",
            "960\n",
            "240\n"
          ]
        }
      ]
    },
    {
      "cell_type": "code",
      "source": [
        "# optimizer\n",
        "optimizer = torch.optim.Adam(model.parameters(), lr=lr)\n",
        "lossFunction = torch.nn.CrossEntropyLoss()"
      ],
      "metadata": {
        "id": "ltY4G1ui3veO"
      },
      "execution_count": 96,
      "outputs": []
    },
    {
      "cell_type": "code",
      "source": [
        "def accuracyCacculator(preds, lables):\n",
        "  _, preds_max = torch.max(preds,1)\n",
        "  acc = torch.sum(preds_max == lables , dtype=torch.float64)/len(preds)\n",
        "  return acc"
      ],
      "metadata": {
        "id": "EZbmnP8t4NYp"
      },
      "execution_count": 97,
      "outputs": []
    },
    {
      "cell_type": "code",
      "source": [
        "model.train()\n",
        "\n",
        "for epoch in range(epochs):\n",
        "  trainLoss = 0.0\n",
        "  trainAccuracy = 0.0\n",
        "  for images, labels in tqdm(trainDataLoader):\n",
        "    images = images.to(device)\n",
        "    labels = labels.to(device)\n",
        "    optimizer.zero_grad()\n",
        "\n",
        "    predictions = model(images)\n",
        "    loss = lossFunction(predictions,labels)\n",
        "    loss.backward()\n",
        "    optimizer.step()\n",
        "\n",
        "    trainLoss += loss\n",
        "    trainAccuracy += accuracyCacculator(predictions, labels)\n",
        "\n",
        "  totalLoss = trainLoss/len(trainDataLoader)\n",
        "  totalAccuracy = trainAccuracy/len(trainDataLoader)\n",
        "  print(f\"Epoch: {epoch +1}, Loss: {totalLoss}, Accuracy: {totalAccuracy}\")"
      ],
      "metadata": {
        "id": "9Q6VuE_74Tkk",
        "colab": {
          "base_uri": "https://localhost:8080/"
        },
        "outputId": "1d372306-c31f-4099-9814-059d4f985d75"
      },
      "execution_count": 98,
      "outputs": [
        {
          "output_type": "stream",
          "name": "stderr",
          "text": [
            "100%|██████████| 150/150 [00:04<00:00, 36.15it/s]\n"
          ]
        },
        {
          "output_type": "stream",
          "name": "stdout",
          "text": [
            "Epoch: 1, Loss: 2.2809181213378906, Accuracy: 0.12916666666666668\n"
          ]
        },
        {
          "output_type": "stream",
          "name": "stderr",
          "text": [
            "100%|██████████| 150/150 [00:03<00:00, 37.56it/s]\n"
          ]
        },
        {
          "output_type": "stream",
          "name": "stdout",
          "text": [
            "Epoch: 2, Loss: 1.9230170249938965, Accuracy: 0.5383333333333333\n"
          ]
        },
        {
          "output_type": "stream",
          "name": "stderr",
          "text": [
            "100%|██████████| 150/150 [00:04<00:00, 37.36it/s]\n"
          ]
        },
        {
          "output_type": "stream",
          "name": "stdout",
          "text": [
            "Epoch: 3, Loss: 1.8110705614089966, Accuracy: 0.655\n"
          ]
        },
        {
          "output_type": "stream",
          "name": "stderr",
          "text": [
            "100%|██████████| 150/150 [00:03<00:00, 37.70it/s]\n"
          ]
        },
        {
          "output_type": "stream",
          "name": "stdout",
          "text": [
            "Epoch: 4, Loss: 1.7431919574737549, Accuracy: 0.7200000000000001\n"
          ]
        },
        {
          "output_type": "stream",
          "name": "stderr",
          "text": [
            "100%|██████████| 150/150 [00:03<00:00, 37.86it/s]\n"
          ]
        },
        {
          "output_type": "stream",
          "name": "stdout",
          "text": [
            "Epoch: 5, Loss: 1.6865767240524292, Accuracy: 0.7741666666666667\n"
          ]
        },
        {
          "output_type": "stream",
          "name": "stderr",
          "text": [
            "100%|██████████| 150/150 [00:03<00:00, 38.25it/s]\n"
          ]
        },
        {
          "output_type": "stream",
          "name": "stdout",
          "text": [
            "Epoch: 6, Loss: 1.6382646560668945, Accuracy: 0.8258333333333334\n"
          ]
        },
        {
          "output_type": "stream",
          "name": "stderr",
          "text": [
            "100%|██████████| 150/150 [00:03<00:00, 37.63it/s]\n"
          ]
        },
        {
          "output_type": "stream",
          "name": "stdout",
          "text": [
            "Epoch: 7, Loss: 1.5938748121261597, Accuracy: 0.8725\n"
          ]
        },
        {
          "output_type": "stream",
          "name": "stderr",
          "text": [
            "100%|██████████| 150/150 [00:03<00:00, 38.37it/s]\n"
          ]
        },
        {
          "output_type": "stream",
          "name": "stdout",
          "text": [
            "Epoch: 8, Loss: 1.5718448162078857, Accuracy: 0.8933333333333334\n"
          ]
        },
        {
          "output_type": "stream",
          "name": "stderr",
          "text": [
            "100%|██████████| 150/150 [00:04<00:00, 37.44it/s]\n"
          ]
        },
        {
          "output_type": "stream",
          "name": "stdout",
          "text": [
            "Epoch: 9, Loss: 1.5593425035476685, Accuracy: 0.9083333333333334\n"
          ]
        },
        {
          "output_type": "stream",
          "name": "stderr",
          "text": [
            "100%|██████████| 150/150 [00:03<00:00, 37.71it/s]\n"
          ]
        },
        {
          "output_type": "stream",
          "name": "stdout",
          "text": [
            "Epoch: 10, Loss: 1.5396050214767456, Accuracy: 0.9225000000000001\n"
          ]
        },
        {
          "output_type": "stream",
          "name": "stderr",
          "text": [
            "100%|██████████| 150/150 [00:03<00:00, 37.69it/s]\n"
          ]
        },
        {
          "output_type": "stream",
          "name": "stdout",
          "text": [
            "Epoch: 11, Loss: 1.542871356010437, Accuracy: 0.9241666666666667\n"
          ]
        },
        {
          "output_type": "stream",
          "name": "stderr",
          "text": [
            "100%|██████████| 150/150 [00:03<00:00, 37.79it/s]\n"
          ]
        },
        {
          "output_type": "stream",
          "name": "stdout",
          "text": [
            "Epoch: 12, Loss: 1.5280725955963135, Accuracy: 0.9366666666666668\n"
          ]
        },
        {
          "output_type": "stream",
          "name": "stderr",
          "text": [
            "100%|██████████| 150/150 [00:03<00:00, 37.57it/s]\n"
          ]
        },
        {
          "output_type": "stream",
          "name": "stdout",
          "text": [
            "Epoch: 13, Loss: 1.5214009284973145, Accuracy: 0.9425000000000001\n"
          ]
        },
        {
          "output_type": "stream",
          "name": "stderr",
          "text": [
            "100%|██████████| 150/150 [00:04<00:00, 36.04it/s]\n"
          ]
        },
        {
          "output_type": "stream",
          "name": "stdout",
          "text": [
            "Epoch: 14, Loss: 1.5154271125793457, Accuracy: 0.9516666666666668\n"
          ]
        },
        {
          "output_type": "stream",
          "name": "stderr",
          "text": [
            "100%|██████████| 150/150 [00:03<00:00, 37.90it/s]\n"
          ]
        },
        {
          "output_type": "stream",
          "name": "stdout",
          "text": [
            "Epoch: 15, Loss: 1.5145987272262573, Accuracy: 0.9491666666666667\n"
          ]
        },
        {
          "output_type": "stream",
          "name": "stderr",
          "text": [
            "100%|██████████| 150/150 [00:04<00:00, 37.36it/s]\n"
          ]
        },
        {
          "output_type": "stream",
          "name": "stdout",
          "text": [
            "Epoch: 16, Loss: 1.5107536315917969, Accuracy: 0.9500000000000001\n"
          ]
        },
        {
          "output_type": "stream",
          "name": "stderr",
          "text": [
            "100%|██████████| 150/150 [00:03<00:00, 37.92it/s]\n"
          ]
        },
        {
          "output_type": "stream",
          "name": "stdout",
          "text": [
            "Epoch: 17, Loss: 1.510054349899292, Accuracy: 0.9550000000000001\n"
          ]
        },
        {
          "output_type": "stream",
          "name": "stderr",
          "text": [
            "100%|██████████| 150/150 [00:03<00:00, 38.01it/s]\n"
          ]
        },
        {
          "output_type": "stream",
          "name": "stdout",
          "text": [
            "Epoch: 18, Loss: 1.5068572759628296, Accuracy: 0.9575\n"
          ]
        },
        {
          "output_type": "stream",
          "name": "stderr",
          "text": [
            "100%|██████████| 150/150 [00:03<00:00, 38.89it/s]\n"
          ]
        },
        {
          "output_type": "stream",
          "name": "stdout",
          "text": [
            "Epoch: 19, Loss: 1.521979808807373, Accuracy: 0.9416666666666668\n"
          ]
        },
        {
          "output_type": "stream",
          "name": "stderr",
          "text": [
            "100%|██████████| 150/150 [00:03<00:00, 38.47it/s]"
          ]
        },
        {
          "output_type": "stream",
          "name": "stdout",
          "text": [
            "Epoch: 20, Loss: 1.5163789987564087, Accuracy: 0.9458333333333334\n"
          ]
        },
        {
          "output_type": "stream",
          "name": "stderr",
          "text": [
            "\n"
          ]
        }
      ]
    },
    {
      "cell_type": "code",
      "source": [
        "#save\n",
        "torch.save(model.state_dict(),'persian-mnist.pth')"
      ],
      "metadata": {
        "id": "k8XQJjV4Cy-H"
      },
      "execution_count": 99,
      "outputs": []
    },
    {
      "cell_type": "code",
      "source": [
        "# Inference\n",
        "import cv2 as cv\n",
        "import numpy as np\n",
        "\n",
        "model = Model()\n",
        "model.load_state_dict(torch.load('persian-mnist.pth'))\n",
        "\n",
        "inference_transform = transforms.Compose([\n",
        "     transforms.ToTensor(),\n",
        "     torchvision.transforms.Normalize(\n",
        "        mean=[0.485, 0.456, 0.406],\n",
        "        std=[0.229, 0.224, 0.225],\n",
        "    ),\n",
        "])\n",
        "\n",
        "model.to(device)\n",
        "model.train(False)\n",
        "model.eval()\n",
        "\n",
        "img = cv.imread('three.png')\n",
        "img = cv.cvtColor(img, cv.COLOR_BGR2RGB)\n",
        "img = cv.resize(img,(64,64))\n",
        "tensor = inference_transform(img).unsqueeze(0).to(device)\n",
        "predictions = model(tensor).cpu().detach().numpy()\n",
        "print(np.argmax(predictions, axis=1))"
      ],
      "metadata": {
        "id": "Mt_cJodzEOhX",
        "colab": {
          "base_uri": "https://localhost:8080/"
        },
        "outputId": "6b0e87a8-fa09-4f36-dc99-c99f7e9e1d31"
      },
      "execution_count": 106,
      "outputs": [
        {
          "output_type": "stream",
          "name": "stdout",
          "text": [
            "[3]\n"
          ]
        }
      ]
    }
  ]
}